{
 "cells": [
  {
   "cell_type": "markdown",
   "metadata": {},
   "source": [
    "<img src=\"images/usm.jpg\" width=\"480\" height=\"240\" align=\"left\"/>"
   ]
  },
  {
   "cell_type": "markdown",
   "metadata": {},
   "source": [
    "# MAT281 - Laboratorios N°01\n",
    "\n",
    "## Objetivos del laboratorio\n",
    "\n",
    "* Reforzar conceptos básicos de regresión lineal."
   ]
  },
  {
   "cell_type": "markdown",
   "metadata": {},
   "source": [
    "## Contenidos\n",
    "\n",
    "* [Problema 01](#p1)\n"
   ]
  },
  {
   "cell_type": "markdown",
   "metadata": {},
   "source": [
    "<a id='p1'></a>\n",
    "## I.- Problema 01\n",
    "\n",
    "\n",
    "<img src=\"https://upload.wikimedia.org/wikipedia/commons/thumb/b/b6/Anscombe.svg/1200px-Anscombe.svg.png\" width=\"360\" height=\"360\" align=\"center\"/>\n",
    "\n"
   ]
  },
  {
   "cell_type": "markdown",
   "metadata": {},
   "source": [
    "El **cuarteto de Anscombe** comprende cuatro conjuntos de datos que tienen las mismas propiedades estadísticas, pero que evidentemente son distintas al inspeccionar sus gráficos respectivos.\n",
    "\n",
    "Cada conjunto consiste de once puntos (x, y) y fueron construidos por el estadístico F. J. Anscombe. El cuarteto es una demostración de la importancia de mirar gráficamente un conjunto de datos antes de analizarlos."
   ]
  },
  {
   "cell_type": "code",
   "execution_count": 1,
   "metadata": {},
   "outputs": [],
   "source": [
    "import os\n",
    "import numpy as np\n",
    "import pandas as pd\n",
    "import matplotlib.pyplot as plt\n",
    "import seaborn as sns\n",
    "\n",
    "%matplotlib inline\n",
    "sns.set_palette(\"deep\", desat=.6)\n",
    "sns.set(rc={'figure.figsize':(11.7,8.27)})"
   ]
  },
  {
   "cell_type": "code",
   "execution_count": 2,
   "metadata": {},
   "outputs": [
    {
     "data": {
      "text/html": [
       "<div>\n",
       "<style scoped>\n",
       "    .dataframe tbody tr th:only-of-type {\n",
       "        vertical-align: middle;\n",
       "    }\n",
       "\n",
       "    .dataframe tbody tr th {\n",
       "        vertical-align: top;\n",
       "    }\n",
       "\n",
       "    .dataframe thead th {\n",
       "        text-align: right;\n",
       "    }\n",
       "</style>\n",
       "<table border=\"1\" class=\"dataframe\">\n",
       "  <thead>\n",
       "    <tr style=\"text-align: right;\">\n",
       "      <th></th>\n",
       "      <th>x</th>\n",
       "      <th>y</th>\n",
       "      <th>grupo</th>\n",
       "    </tr>\n",
       "  </thead>\n",
       "  <tbody>\n",
       "    <tr>\n",
       "      <th>0</th>\n",
       "      <td>10</td>\n",
       "      <td>8.04</td>\n",
       "      <td>Grupo_1</td>\n",
       "    </tr>\n",
       "    <tr>\n",
       "      <th>1</th>\n",
       "      <td>8</td>\n",
       "      <td>6.95</td>\n",
       "      <td>Grupo_1</td>\n",
       "    </tr>\n",
       "    <tr>\n",
       "      <th>2</th>\n",
       "      <td>13</td>\n",
       "      <td>7.58</td>\n",
       "      <td>Grupo_1</td>\n",
       "    </tr>\n",
       "    <tr>\n",
       "      <th>3</th>\n",
       "      <td>9</td>\n",
       "      <td>8.81</td>\n",
       "      <td>Grupo_1</td>\n",
       "    </tr>\n",
       "    <tr>\n",
       "      <th>4</th>\n",
       "      <td>11</td>\n",
       "      <td>8.33</td>\n",
       "      <td>Grupo_1</td>\n",
       "    </tr>\n",
       "  </tbody>\n",
       "</table>\n",
       "</div>"
      ],
      "text/plain": [
       "    x     y    grupo\n",
       "0  10  8.04  Grupo_1\n",
       "1   8  6.95  Grupo_1\n",
       "2  13  7.58  Grupo_1\n",
       "3   9  8.81  Grupo_1\n",
       "4  11  8.33  Grupo_1"
      ]
     },
     "execution_count": 2,
     "metadata": {},
     "output_type": "execute_result"
    }
   ],
   "source": [
    "# cargar datos\n",
    "df = pd.read_csv(os.path.join(\"data\",\"anscombe.csv\"), sep=\",\")\n",
    "df.head()"
   ]
  },
  {
   "cell_type": "markdown",
   "metadata": {},
   "source": [
    "Basado en la información presentada responda las siguientes preguntas:\n",
    "\n",
    "1. Gráfique mediante un gráfico tipo **scatter** cada grupo. A simple vista, ¿ los grupos son muy distintos entre si?.\n",
    "2. Realice un resumen de las medidas estadísticas más significativas ocuapando el comando **describe** para cada grupo. Interprete.\n",
    "3. Realice un ajuste lineal para cada grupo. Además, grafique los resultados de la regresión lineal para cada grupo. Interprete.\n",
    "4. Calcule los resultados de las métricas para cada grupo. Interprete.\n",
    "5. Es claro que el ajuste lineal para algunos grupos no es el correcto. Existen varias formas de solucionar este problema (eliminar outliers, otros modelos, etc.). Identifique una estrategia para que el modelo de regresión lineal ajuste de mejor manera e implemente otros modelos en los casos que encuentre necesario.  "
   ]
  },
  {
   "cell_type": "markdown",
   "metadata": {},
   "source": [
    "1. Gráfique mediante un gráfico tipo scatter cada grupo. A simple vista, ¿Los grupos son muy distintos entre si?"
   ]
  },
  {
   "cell_type": "code",
   "execution_count": 3,
   "metadata": {},
   "outputs": [
    {
     "data": {
      "image/png": "[encoded data removed]",
      "text/plain": [
       "<Figure size 864x576 with 4 Axes>"
      ]
     },
     "metadata": {
      "needs_background": "light"
     },
     "output_type": "display_data"
    }
   ],
   "source": [
    "fig = plt.figure(figsize=(12, 8)) #esta es la ventana sobre donde se va a plottear\n",
    "\n",
    "plt.subplot(2,2,1)\n",
    "sns.scatterplot(x='x', y='y', data=df[df['grupo'] == 'Grupo_1']) \n",
    "plt.xlabel('$x_1$')\n",
    "plt.ylabel('$y_1$')\n",
    "\n",
    "plt.subplot(2,2,2)\n",
    "sns.scatterplot(x='x', y='y', data=df[df['grupo'] == 'Grupo_2']) \n",
    "plt.xlabel('$x_2$')\n",
    "plt.ylabel('$y_2$')\n",
    "\n",
    "plt.subplot(2,2,3)\n",
    "sns.scatterplot(x='x', y='y', data=df[df['grupo'] == 'Grupo_3']) \n",
    "plt.xlabel('$x_3$')\n",
    "plt.ylabel('$y_3$')\n",
    "\n",
    "plt.subplot(2,2,4)\n",
    "sns.scatterplot(x='x', y='y', data=df[df['grupo'] == 'Grupo_4']) \n",
    "plt.xlabel('$x_4$')\n",
    "plt.ylabel('$y_4$')\n",
    "\n",
    "plt.show()"
   ]
  },
  {
   "cell_type": "markdown",
   "metadata": {},
   "source": [
    "2. Realice un resumen de las medidas estadísticas más significativas ocuapando el comando describe para cada grupo. Interprete."
   ]
  },
  {
   "cell_type": "code",
   "execution_count": 4,
   "metadata": {},
   "outputs": [
    {
     "data": {
      "text/html": [
       "<div>\n",
       "<style scoped>\n",
       "    .dataframe tbody tr th:only-of-type {\n",
       "        vertical-align: middle;\n",
       "    }\n",
       "\n",
       "    .dataframe tbody tr th {\n",
       "        vertical-align: top;\n",
       "    }\n",
       "\n",
       "    .dataframe thead tr th {\n",
       "        text-align: left;\n",
       "    }\n",
       "\n",
       "    .dataframe thead tr:last-of-type th {\n",
       "        text-align: right;\n",
       "    }\n",
       "</style>\n",
       "<table border=\"1\" class=\"dataframe\">\n",
       "  <thead>\n",
       "    <tr>\n",
       "      <th></th>\n",
       "      <th colspan=\"8\" halign=\"left\">x</th>\n",
       "      <th colspan=\"8\" halign=\"left\">y</th>\n",
       "    </tr>\n",
       "    <tr>\n",
       "      <th></th>\n",
       "      <th>count</th>\n",
       "      <th>mean</th>\n",
       "      <th>std</th>\n",
       "      <th>min</th>\n",
       "      <th>25%</th>\n",
       "      <th>50%</th>\n",
       "      <th>75%</th>\n",
       "      <th>max</th>\n",
       "      <th>count</th>\n",
       "      <th>mean</th>\n",
       "      <th>std</th>\n",
       "      <th>min</th>\n",
       "      <th>25%</th>\n",
       "      <th>50%</th>\n",
       "      <th>75%</th>\n",
       "      <th>max</th>\n",
       "    </tr>\n",
       "    <tr>\n",
       "      <th>grupo</th>\n",
       "      <th></th>\n",
       "      <th></th>\n",
       "      <th></th>\n",
       "      <th></th>\n",
       "      <th></th>\n",
       "      <th></th>\n",
       "      <th></th>\n",
       "      <th></th>\n",
       "      <th></th>\n",
       "      <th></th>\n",
       "      <th></th>\n",
       "      <th></th>\n",
       "      <th></th>\n",
       "      <th></th>\n",
       "      <th></th>\n",
       "      <th></th>\n",
       "    </tr>\n",
       "  </thead>\n",
       "  <tbody>\n",
       "    <tr>\n",
       "      <th>Grupo_1</th>\n",
       "      <td>11.0</td>\n",
       "      <td>9.0</td>\n",
       "      <td>3.316625</td>\n",
       "      <td>4.0</td>\n",
       "      <td>6.5</td>\n",
       "      <td>9.0</td>\n",
       "      <td>11.5</td>\n",
       "      <td>14.0</td>\n",
       "      <td>11.0</td>\n",
       "      <td>7.500909</td>\n",
       "      <td>2.031568</td>\n",
       "      <td>4.26</td>\n",
       "      <td>6.315</td>\n",
       "      <td>7.58</td>\n",
       "      <td>8.57</td>\n",
       "      <td>10.84</td>\n",
       "    </tr>\n",
       "    <tr>\n",
       "      <th>Grupo_2</th>\n",
       "      <td>11.0</td>\n",
       "      <td>9.0</td>\n",
       "      <td>3.316625</td>\n",
       "      <td>4.0</td>\n",
       "      <td>6.5</td>\n",
       "      <td>9.0</td>\n",
       "      <td>11.5</td>\n",
       "      <td>14.0</td>\n",
       "      <td>11.0</td>\n",
       "      <td>7.500909</td>\n",
       "      <td>2.031657</td>\n",
       "      <td>3.10</td>\n",
       "      <td>6.695</td>\n",
       "      <td>8.14</td>\n",
       "      <td>8.95</td>\n",
       "      <td>9.26</td>\n",
       "    </tr>\n",
       "    <tr>\n",
       "      <th>Grupo_3</th>\n",
       "      <td>11.0</td>\n",
       "      <td>9.0</td>\n",
       "      <td>3.316625</td>\n",
       "      <td>4.0</td>\n",
       "      <td>6.5</td>\n",
       "      <td>9.0</td>\n",
       "      <td>11.5</td>\n",
       "      <td>14.0</td>\n",
       "      <td>11.0</td>\n",
       "      <td>7.500000</td>\n",
       "      <td>2.030424</td>\n",
       "      <td>5.39</td>\n",
       "      <td>6.250</td>\n",
       "      <td>7.11</td>\n",
       "      <td>7.98</td>\n",
       "      <td>12.74</td>\n",
       "    </tr>\n",
       "    <tr>\n",
       "      <th>Grupo_4</th>\n",
       "      <td>11.0</td>\n",
       "      <td>9.0</td>\n",
       "      <td>3.316625</td>\n",
       "      <td>8.0</td>\n",
       "      <td>8.0</td>\n",
       "      <td>8.0</td>\n",
       "      <td>8.0</td>\n",
       "      <td>19.0</td>\n",
       "      <td>11.0</td>\n",
       "      <td>7.500909</td>\n",
       "      <td>2.030579</td>\n",
       "      <td>5.25</td>\n",
       "      <td>6.170</td>\n",
       "      <td>7.04</td>\n",
       "      <td>8.19</td>\n",
       "      <td>12.50</td>\n",
       "    </tr>\n",
       "  </tbody>\n",
       "</table>\n",
       "</div>"
      ],
      "text/plain": [
       "            x                                               y            \\\n",
       "        count mean       std  min  25%  50%   75%   max count      mean   \n",
       "grupo                                                                     \n",
       "Grupo_1  11.0  9.0  3.316625  4.0  6.5  9.0  11.5  14.0  11.0  7.500909   \n",
       "Grupo_2  11.0  9.0  3.316625  4.0  6.5  9.0  11.5  14.0  11.0  7.500909   \n",
       "Grupo_3  11.0  9.0  3.316625  4.0  6.5  9.0  11.5  14.0  11.0  7.500000   \n",
       "Grupo_4  11.0  9.0  3.316625  8.0  8.0  8.0   8.0  19.0  11.0  7.500909   \n",
       "\n",
       "                                                   \n",
       "              std   min    25%   50%   75%    max  \n",
       "grupo                                              \n",
       "Grupo_1  2.031568  4.26  6.315  7.58  8.57  10.84  \n",
       "Grupo_2  2.031657  3.10  6.695  8.14  8.95   9.26  \n",
       "Grupo_3  2.030424  5.39  6.250  7.11  7.98  12.74  \n",
       "Grupo_4  2.030579  5.25  6.170  7.04  8.19  12.50  "
      ]
     },
     "execution_count": 4,
     "metadata": {},
     "output_type": "execute_result"
    }
   ],
   "source": [
    "df.groupby(['grupo']).describe()"
   ]
  },
  {
   "cell_type": "markdown",
   "metadata": {},
   "source": [
    "Se ve que en principio, los estadísticos son similares, la media y la desviación estandar se acercan bastante. Sin embargo, se ve en los gráficos que no son muy parecidos, tal vez el grupo 1 y el 3 se parecen, pero los otros 2 no se acercan a lo que podría ser un modelo lineal, se van a ver casi igual, pero los R^2 cambiarán bastante dependiendo del grupo. \n",
    "El 4to podría tomarse como  un x=8 con un outlayer, y el 2do como una suerte de función polinómica."
   ]
  },
  {
   "cell_type": "markdown",
   "metadata": {},
   "source": [
    "3. Realice un ajuste lineal para cada grupo. Además, grafique los resultados de la regresión lineal para cada grupo. Interprete."
   ]
  },
  {
   "cell_type": "code",
   "execution_count": 6,
   "metadata": {},
   "outputs": [
    {
     "data": {
      "text/plain": [
       "LinearRegression(copy_X=True, fit_intercept=True, n_jobs=None, normalize=False)"
      ]
     },
     "execution_count": 6,
     "metadata": {},
     "output_type": "execute_result"
    }
   ],
   "source": [
    "#Se importan las librerías a utilizar de modelos lineales\n",
    "from sklearn.linear_model import LinearRegression\n",
    "from sklearn.model_selection import train_test_split\n",
    "\n",
    "#Se crean los 4 modelos con linear regression:\n",
    "#Modelo 1:\n",
    "model_rl1 = LinearRegression() \n",
    "x1 = df[df['grupo'] == 'Grupo_1'][['x']]\n",
    "y1 = df[df['grupo'] == 'Grupo_1']['y']\n",
    "X1_train, X1_test, y1_train, y1_test = train_test_split(x1, y1, test_size=0.33, random_state=42)\n",
    "\n",
    "model_rl1.fit(X1_train,y1_train)\n",
    "\n",
    "#Modelo 2:\n",
    "model_rl2 = LinearRegression()\n",
    "x2 = df[df['grupo'] == 'Grupo_2'][['x']]\n",
    "y2 = df[df['grupo'] == 'Grupo_2']['y']\n",
    "X2_train, X2_test, y2_train, y2_test = train_test_split(x2, y2, test_size=0.33, random_state=42)\n",
    "\n",
    "model_rl2.fit(X2_train,y2_train)\n",
    "\n",
    "#Modelo 3:\n",
    "model_rl3 = LinearRegression() \n",
    "x3 = df[df['grupo'] == 'Grupo_3'][['x']]\n",
    "y3 = df[df['grupo'] == 'Grupo_3']['y']\n",
    "X3_train, X3_test, y3_train, y3_test = train_test_split(x3, y3, test_size=0.33, random_state=42)\n",
    "\n",
    "model_rl3.fit(X3_train,y3_train)\n",
    "\n",
    "#Modelo 4:\n",
    "model_rl4 = LinearRegression()\n",
    "x4 = df[df['grupo'] == 'Grupo_4'][['x']]\n",
    "y4 = df[df['grupo'] == 'Grupo_4']['y']\n",
    "X4_train, X4_test, y4_train, y4_test = train_test_split(x4, y4, test_size=0.33, random_state=42)\n",
    "\n",
    "model_rl4.fit(X4_train,y4_train)"
   ]
  },
  {
   "cell_type": "code",
   "execution_count": 7,
   "metadata": {},
   "outputs": [
    {
     "data": {
      "image/png": "[encoded data removed]",
      "text/plain": [
       "<Figure size 864x576 with 4 Axes>"
      ]
     },
     "metadata": {
      "needs_background": "light"
     },
     "output_type": "display_data"
    }
   ],
   "source": [
    "# Lista de coeficientes beta para cada modelo:\n",
    "beta_1_0 = round(model_rl1.intercept_,4)\n",
    "beta_1_1 = round(model_rl1.coef_[0],4)\n",
    "\n",
    "beta_2_0 = round(model_rl2.intercept_,4)\n",
    "beta_2_1 = round(model_rl2.coef_[0],4)\n",
    "\n",
    "beta_3_0 = round(model_rl3.intercept_,4)\n",
    "beta_3_1 = round(model_rl3.coef_[0],4)\n",
    "\n",
    "beta_4_0 = round(model_rl4.intercept_,4)\n",
    "beta_4_1 = round(model_rl4.coef_[0],4)\n",
    "\n",
    "#Se definen los arreglos para graficar:\n",
    "x1_range = np.arange(2,21,1)\n",
    "y1_range=[beta_1_0 + beta_1_1*n for n in x1_range]\n",
    "y2_range=[beta_2_0 + beta_2_1*n for n in x1_range]\n",
    "y3_range=[beta_3_0 + beta_3_1*n for n in x1_range]\n",
    "y4_range=[beta_4_0 + beta_4_1*n for n in x1_range]\n",
    "\n",
    "#Aqui los dataframes:\n",
    "df_plot1 = pd.DataFrame({'x':x1_range,\n",
    "                        'y':y1_range})\n",
    "df_plot2 = pd.DataFrame({'x':x1_range,\n",
    "                        'y':y2_range})\n",
    "df_plot3 = pd.DataFrame({'x':x1_range,\n",
    "                        'y':y3_range})\n",
    "df_plot4 = pd.DataFrame({'x':x1_range,\n",
    "                        'y':y4_range})\n",
    "\n",
    "\n",
    "fig = plt.figure(figsize=(12, 8)) #Esta es la ventana, tal como antes\n",
    "\n",
    "#Grafico 1:\n",
    "plt.subplot(2,2,1)\n",
    "sns.scatterplot(x='x', y='y', data=df[df['grupo'] == 'Grupo_1']) \n",
    "sns.lineplot(x='x', y='y', data=df_plot1,color=\"red\")\n",
    "plt.xlabel('$x_1$')\n",
    "plt.xticks([2*x for x in range(1,10)])\n",
    "plt.ylabel('$y_1$')\n",
    "\n",
    "#Grafico 2:\n",
    "plt.subplot(2,2,2)\n",
    "sns.scatterplot(x='x', y='y', data=df[df['grupo'] == 'Grupo_2'])\n",
    "sns.lineplot(x='x', y='y', data=df_plot2,color=\"red\")\n",
    "plt.xlabel('$x_2$')\n",
    "plt.xticks([2*x for x in range(1,10)])\n",
    "plt.ylabel('$y_2$')\n",
    "\n",
    "#Grafico 3:\n",
    "plt.subplot(2,2,3)\n",
    "sns.scatterplot(x='x', y='y', data=df[df['grupo'] == 'Grupo_3'])\n",
    "sns.lineplot(x='x', y='y', data=df_plot3,color=\"red\")\n",
    "plt.xlabel('$x_3$')\n",
    "plt.xticks([2*x for x in range(1,10)])\n",
    "plt.ylabel('$y_3$')\n",
    "\n",
    "#Grafico 4:\n",
    "plt.subplot(2,2,4)\n",
    "sns.scatterplot(x='x', y='y', data=df[df['grupo'] == 'Grupo_4'])\n",
    "sns.lineplot(x='x', y='y', data=df_plot4,color=\"red\")\n",
    "plt.xlabel('$x_4$')\n",
    "plt.xticks([2*x for x in range(1,10)])\n",
    "plt.ylabel('$y_4$')\n",
    "\n",
    "plt.show()"
   ]
  },
  {
   "cell_type": "markdown",
   "metadata": {},
   "source": [
    "Pasó la hipótesis que se dio en el item 2, las regresiones son similares, pero claramente no se ajustan bien al 2do y al 4to.\n",
    "Se ve también una pendiente bastante mala en el 3ro por el outlayer."
   ]
  },
  {
   "cell_type": "markdown",
   "metadata": {},
   "source": [
    "4. Calcule los resultados de las métricas para cada grupo. Interprete."
   ]
  },
  {
   "cell_type": "code",
   "execution_count": 9,
   "metadata": {},
   "outputs": [
    {
     "data": {
      "text/html": [
       "<div>\n",
       "<style scoped>\n",
       "    .dataframe tbody tr th:only-of-type {\n",
       "        vertical-align: middle;\n",
       "    }\n",
       "\n",
       "    .dataframe tbody tr th {\n",
       "        vertical-align: top;\n",
       "    }\n",
       "\n",
       "    .dataframe thead th {\n",
       "        text-align: right;\n",
       "    }\n",
       "</style>\n",
       "<table border=\"1\" class=\"dataframe\">\n",
       "  <thead>\n",
       "    <tr style=\"text-align: right;\">\n",
       "      <th></th>\n",
       "      <th>mae</th>\n",
       "      <th>mse</th>\n",
       "      <th>rmse</th>\n",
       "      <th>mape</th>\n",
       "      <th>maape</th>\n",
       "      <th>wmape</th>\n",
       "      <th>mmape</th>\n",
       "      <th>smape</th>\n",
       "      <th>r2</th>\n",
       "    </tr>\n",
       "  </thead>\n",
       "  <tbody>\n",
       "    <tr>\n",
       "      <th>0</th>\n",
       "      <td>0.5907</td>\n",
       "      <td>0.9878</td>\n",
       "      <td>0.9939</td>\n",
       "      <td>0.1165</td>\n",
       "      <td>0.1113</td>\n",
       "      <td>0.0829</td>\n",
       "      <td>0.0971</td>\n",
       "      <td>0.0990</td>\n",
       "      <td>0.7572</td>\n",
       "    </tr>\n",
       "    <tr>\n",
       "      <th>0</th>\n",
       "      <td>1.1934</td>\n",
       "      <td>2.0670</td>\n",
       "      <td>1.4377</td>\n",
       "      <td>0.1569</td>\n",
       "      <td>0.1541</td>\n",
       "      <td>0.1633</td>\n",
       "      <td>0.1381</td>\n",
       "      <td>0.1484</td>\n",
       "      <td>0.2186</td>\n",
       "    </tr>\n",
       "    <tr>\n",
       "      <th>0</th>\n",
       "      <td>0.8342</td>\n",
       "      <td>1.1773</td>\n",
       "      <td>1.0850</td>\n",
       "      <td>0.1067</td>\n",
       "      <td>0.1057</td>\n",
       "      <td>0.1173</td>\n",
       "      <td>0.0943</td>\n",
       "      <td>0.1005</td>\n",
       "      <td>0.1432</td>\n",
       "    </tr>\n",
       "    <tr>\n",
       "      <th>0</th>\n",
       "      <td>0.3700</td>\n",
       "      <td>0.2736</td>\n",
       "      <td>0.5230</td>\n",
       "      <td>0.0496</td>\n",
       "      <td>0.0495</td>\n",
       "      <td>0.0521</td>\n",
       "      <td>0.0437</td>\n",
       "      <td>0.0514</td>\n",
       "      <td>-0.1234</td>\n",
       "    </tr>\n",
       "  </tbody>\n",
       "</table>\n",
       "</div>"
      ],
      "text/plain": [
       "      mae     mse    rmse    mape   maape   wmape   mmape   smape      r2\n",
       "0  0.5907  0.9878  0.9939  0.1165  0.1113  0.0829  0.0971  0.0990  0.7572\n",
       "0  1.1934  2.0670  1.4377  0.1569  0.1541  0.1633  0.1381  0.1484  0.2186\n",
       "0  0.8342  1.1773  1.0850  0.1067  0.1057  0.1173  0.0943  0.1005  0.1432\n",
       "0  0.3700  0.2736  0.5230  0.0496  0.0495  0.0521  0.0437  0.0514 -0.1234"
      ]
     },
     "execution_count": 9,
     "metadata": {},
     "output_type": "execute_result"
    }
   ],
   "source": [
    "from metrics_regression import *\n",
    "from sklearn.metrics import r2_score\n",
    "\n",
    "#Metricas del grupo 1:\n",
    "df_temp = pd.DataFrame({\n",
    "        'y':y1_test,\n",
    "        'yhat': model_rl1.predict(X1_test)\n",
    "        })\n",
    "\n",
    "df_metrics= summary_metrics(df_temp) #Se crea el dataframe de metricas ahora solo con el grupo 1\n",
    "df_metrics['r2'] =  round(r2_score(y1_test, model_rl1.predict(X1_test)),4)\n",
    "\n",
    "#Metricas del grupo 2:\n",
    "df_temp = pd.DataFrame({\n",
    "        'y':y2_test,\n",
    "        'yhat': model_rl2.predict(X2_test)\n",
    "        })\n",
    "df_metrics_temp = summary_metrics(df_temp)\n",
    "df_metrics_temp['r2'] =  round(r2_score(y2_test, model_rl2.predict(X2_test)),4)\n",
    "df_metrics=pd.concat([df_metrics,df_metrics_temp]) #Se agrega el dataframe de metricas del grupo 2 al ya existente \n",
    "\n",
    "#Metricas del grupo 3:\n",
    "df_temp = pd.DataFrame({\n",
    "        'y':y3_test,\n",
    "        'yhat': model_rl3.predict(X3_test)\n",
    "        })\n",
    "df_metrics_temp = summary_metrics(df_temp)\n",
    "df_metrics_temp['r2'] =  round(r2_score(y3_test, model_rl3.predict(X3_test)),4)\n",
    "df_metrics=pd.concat([df_metrics,df_metrics_temp]) #Se agrega el dataframe de metricas del grupo 3 al ya existente \n",
    "\n",
    "#Metricas del grupo 4:\n",
    "df_temp = pd.DataFrame({\n",
    "        'y':y4_test,\n",
    "        'yhat': model_rl4.predict(X4_test)\n",
    "        })\n",
    "df_metrics_temp = summary_metrics(df_temp)\n",
    "df_metrics_temp['r2'] =  round(r2_score(y4_test, model_rl4.predict(X4_test)),4)\n",
    "df_metrics=pd.concat([df_metrics,df_metrics_temp]) #Se agrega el dataframe de metricas del grupo 4 al ya existente \n",
    "\n",
    "grupos = pd.Series(['Grupo_1','Grupo_2','Grupo_3', 'Grupo_4']) #Se cambia el indice para mostrar cada grupo\n",
    "df_metrics.set_index(keys=grupos)\n",
    "df_metrics"
   ]
  },
  {
   "cell_type": "markdown",
   "metadata": {},
   "source": [
    "Es claro que el primer modelo es el que mejor se ajusta, un R^2 de 0.75 es bastante aceptable. \n",
    "El tercero es un caso especial, porque se observa en la data que el modelo si es lineal, pero el outlayer destruyó el ajuste notoriamente, produciendo ese r^2 terrible de 0.14. \n",
    "Respecto a los otros se denota en bajos r^2 que no hay una buena correlación lineal de los datos, como se observaba gráficamente, incluso se tiene un r^2 negativo para grupo 4.\n"
   ]
  },
  {
   "cell_type": "markdown",
   "metadata": {},
   "source": [
    "5. Es claro que el ajuste lineal para algunos grupos no es el correcto. Existen varias formas de solucionar este problema (eliminar outliers, otros modelos, etc.). Identifique una estrategia para que el modelo de regresión lineal ajuste de mejor manera e implemente otros modelos en los casos que encuentre necesario."
   ]
  },
  {
   "cell_type": "markdown",
   "metadata": {},
   "source": [
    "Como he comentado en ítemes anteriores, los problemas son los grupos del 2 al 4.\n",
    "Para el grupo 2, probaría algún ajuste polinomial, a simple vista diría que es cuadrático. Creo que con eso se ajustaría mejor.\n",
    "En el caso del 3, es evidente que hay que eliminar ese outlayer para obtener un ajuste lineal bueno, baso esta opinión solo mirando el gráfico.\n",
    "Siguiendo con el grupo 4, mi idea sería sacar ese outlayer, y modelar con la recta x=8. Es posible ver que la información está toda concentrada en esa recta, así que opino que eso se ajustaría bien."
   ]
  }
 ],
 "metadata": {
  "kernelspec": {
   "display_name": "Python 3",
   "language": "python",
   "name": "python3"
  },
  "language_info": {
   "codemirror_mode": {
    "name": "ipython",
    "version": 3
   },
   "file_extension": ".py",
   "mimetype": "text/x-python",
   "name": "python",
   "nbconvert_exporter": "python",
   "pygments_lexer": "ipython3",
   "version": "3.7.3"
  }
 },
 "nbformat": 4,
 "nbformat_minor": 4
}
