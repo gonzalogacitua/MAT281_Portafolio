{
 "cells": [
  {
   "cell_type": "markdown",
   "metadata": {},
   "source": [
    "<img src=\"images/usm.jpg\" width=\"480\" height=\"240\" align=\"left\"/>"
   ]
  },
  {
   "cell_type": "markdown",
   "metadata": {},
   "source": [
    "# MAT281 - Laboratorio N°02\n",
    "\n",
    "## Objetivos de la clase\n",
    "\n",
    "* Reforzar los conceptos básicos de numpy."
   ]
  },
  {
   "cell_type": "markdown",
   "metadata": {},
   "source": [
    "## Contenidos\n",
    "\n",
    "* [Problema 01](#p1)\n",
    "* [Problema 02](#p2)\n",
    "* [Problema 03](#p3)"
   ]
  },
  {
   "cell_type": "markdown",
   "metadata": {},
   "source": [
    "<a id='p1'></a>\n",
    "\n",
    "## Problema 01\n",
    "\n",
    "Una **media móvil simple** (SMA) es el promedio de los últimos $k$ datos anteriores, es decir, sea $a_1$,$a_2$,...,$a_n$ un arreglo $n$-dimensional, entonces la SMA se define por:\n",
    "\n",
    "$$sma(k) =\\dfrac{1}{k}(a_{n}+a_{n-1}+...+a_{n-(k-1)}) = \\dfrac{1}{k}\\sum_{i=0}^{k-1}a_{n-i}  $$ \n",
    "\n",
    "\n",
    "Por otro lado podemos definir el SMA con una venta móvil de $n$ si el resultado nos retorna la el promedio ponderado avanzando de la siguiente forma:\n",
    "\n",
    "* $a = [1,2,3,4,5]$, la SMA con una ventana de $n=2$ sería:\n",
    "\n",
    "\n",
    "    * sma(2): [mean(1,2),mean(2,3),mean(3,4)] = [1.5, 2.5, 3.5, 4.5]\n",
    "    * sma(3): [mean(1,2,3),mean(2,3,4),mean(3,4,5)] = [2.,3.,4.]\n",
    "\n",
    "\n",
    "Implemente una función llamada `sma` cuyo input sea un arreglo unidimensional $a$ y un entero $n$, y cuyo ouput retorne el valor de la media móvil simple sobre el arreglo de la siguiente forma:\n",
    "\n",
    "* **Ejemplo**: *sma([5,3,8,10,2,1,5,1,0,2], 2)* = $[4. , 5.5, 9. , 6. , 1.5, 3. , 3. , 0.5, 1. ]$\n",
    "\n",
    "En este caso, se esta calculando el SMA para un arreglo con una ventana de $n=2$.\n",
    "\n",
    "**Hint**: utilice la función `numpy.cumsum`"
   ]
  },
  {
   "cell_type": "code",
   "execution_count": 20,
   "metadata": {},
   "outputs": [],
   "source": [
    "import numpy as np\n",
    "import time\n",
    "import sys"
   ]
  },
  {
   "cell_type": "code",
   "execution_count": 3,
   "metadata": {},
   "outputs": [],
   "source": [
    "\n",
    "def sma(a:list, n:int):\n",
    "    \n",
    "    lista = np.array([]) #Se requiere el arreglo vacío con el cual se retornará \n",
    "    for elem in range(len(a)):\n",
    "        if len(a)-elem<n: #Se quiebra en caso de que el largo menos la posicion del elemento sea menor a n\n",
    "            break\n",
    "        aux = np.array([a[elem+i] for i in range(n)]) #Dado un elemento, se almacena una lista de n elementos hasta completar.\n",
    "        lista = np.append(lista,np.mean(aux)) #Se calcula para cada ventana la media ponderada, y se añade al arreglo final\n",
    "        \n",
    "    return list(lista)"
   ]
  },
  {
   "cell_type": "code",
   "execution_count": 6,
   "metadata": {},
   "outputs": [
    {
     "data": {
      "text/plain": [
       "[4.0, 5.5, 9.0, 6.0, 1.5, 3.0, 3.0, 0.5, 1.0]"
      ]
     },
     "execution_count": 6,
     "metadata": {},
     "output_type": "execute_result"
    }
   ],
   "source": [
    "#ejemplo n°1:\n",
    "sma([5,3,8,10,2,1,5,1,0,2], 2)\n",
    "#observación: el resultado es el mismo que en el enunciado, a excepción que deja los enteros como n.0 en lugar de n."
   ]
  },
  {
   "cell_type": "code",
   "execution_count": 8,
   "metadata": {},
   "outputs": [
    {
     "data": {
      "text/plain": [
       "[5.333333333333333,\n",
       " 7.0,\n",
       " 6.666666666666667,\n",
       " 4.333333333333333,\n",
       " 2.6666666666666665,\n",
       " 2.3333333333333335,\n",
       " 2.0,\n",
       " 1.0]"
      ]
     },
     "execution_count": 8,
     "metadata": {},
     "output_type": "execute_result"
    }
   ],
   "source": [
    "#ejemplo n°2 (cambiamos el paso):\n",
    "sma([5,3,8,10,2,1,5,1,0,2], 3)"
   ]
  },
  {
   "cell_type": "code",
   "execution_count": 10,
   "metadata": {},
   "outputs": [
    {
     "data": {
      "text/plain": [
       "[1.5, 2.5, 3.5, 4.5]"
      ]
     },
     "execution_count": 10,
     "metadata": {},
     "output_type": "execute_result"
    }
   ],
   "source": [
    "#ejemplo n°3:\n",
    "sma([1,2,3,4,5],2)"
   ]
  },
  {
   "cell_type": "markdown",
   "metadata": {},
   "source": [
    "<a id='p2'></a>\n",
    "\n",
    "## Problema 02\n",
    "\n",
    "La función **strides($a,n,p$)**, corresponde a transformar un arreglo unidimensional $a$ en una matriz de $n$ columnas, en el cual las filas se van construyendo desfasando la posición del arreglo en $p$ pasos hacia adelante.\n",
    "\n",
    "* Para el arreglo unidimensional $a$ = [ 1,  2,  3,  4,  5,  6,  7,  8,  9, 10], la función strides($a,4,2$), corresponde a crear una matriz de $4$ columnas, cuyos desfaces hacia adelante se hacen de dos en dos. \n",
    "\n",
    "El resultado tendría que ser algo así:$$\\begin{pmatrix}\n",
    " 1& 2 &3 &4 \\\\ \n",
    " 3&  4&5&6 \\\\ \n",
    " 5& 6 &7 &8 \\\\ \n",
    " 7& 8 &9 &10 \\\\ \n",
    "\\end{pmatrix}$$\n",
    "\n",
    "\n",
    "Implemente una función llamada `strides(a,4,2)` cuyo input sea un arreglo unidimensional y retorne la matriz de $4$ columnas, cuyos desfaces hacia adelante se hacen de dos en dos. \n",
    "\n",
    "* **Ejemplo**: *strides($a$,4,2)* =$\\begin{pmatrix}\n",
    " 1& 2 &3 &4 \\\\ \n",
    " 3&  4&5&6 \\\\ \n",
    " 5& 6 &7 &8 \\\\ \n",
    " 7& 8 &9 &10 \\\\ \n",
    "\\end{pmatrix}$\n"
   ]
  },
  {
   "cell_type": "code",
   "execution_count": 84,
   "metadata": {},
   "outputs": [],
   "source": [
    "def strides(a:np.array, n:int, p:int)->np.array:\n",
    "      \n",
    "    a = np.array(a)\n",
    "    if len(a.shape)!=1: #Se requiere un arreglo que sea unidimensional\n",
    "        return \"Error: Se requiere un arreglo que sea unidimensional\" #hay que anunciarlo en un error\n",
    "    \n",
    "    else:\n",
    "        m_final = np.zeros((int((len(a)-n+p)/p),n)) #Se crea la matriz nula para reemplazar después\n",
    "        for fila in range(int((len(a)-n+p)/p)+1):\n",
    "            if fila>0: #Si no se está en la siguiente fila, se hace lo que sigue\n",
    "                if len(a[fila*p:fila*p+n])<n: \n",
    "                    break #De llegar al final, si sobran menos de n elementos se quiebra\n",
    "                else:\n",
    "                    m_final[fila] = np.array(a[fila*p:fila*p+n]) #Aquí se hace el proceso de agregar la fila de largo n en base \n",
    "                                                            #al desplazamiento p\n",
    "                    print(\"Fila \"+str(fila+1)+\": \"+str(m_final[fila]))\n",
    "            else:\n",
    "                m_final[fila] = np.array(a[:n]) # la primera fila son los primeros n terminos del arreglo\n",
    "                print(\"Fila \"+str(fila+1)+\": \"+str(m_final[fila]))\n",
    "                \n",
    "        return m_final"
   ]
  },
  {
   "cell_type": "code",
   "execution_count": 86,
   "metadata": {},
   "outputs": [
    {
     "name": "stdout",
     "output_type": "stream",
     "text": [
      "Fila 1: [1. 2. 3. 4.]\n",
      "Fila 2: [3. 4. 5. 6.]\n",
      "Fila 3: [5. 6. 7. 8.]\n",
      "Fila 4: [ 7.  8.  9. 10.]\n"
     ]
    },
    {
     "data": {
      "text/plain": [
       "array([[ 1.,  2.,  3.,  4.],\n",
       "       [ 3.,  4.,  5.,  6.],\n",
       "       [ 5.,  6.,  7.,  8.],\n",
       "       [ 7.,  8.,  9., 10.]])"
      ]
     },
     "execution_count": 86,
     "metadata": {},
     "output_type": "execute_result"
    }
   ],
   "source": [
    "a=[1,2,3,4,5,6,7,8,9,10]\n",
    "strides(a,4,2)\n",
    "#Observación: Hace lo que pide, pero queda en formato float en lugar de int's"
   ]
  },
  {
   "cell_type": "markdown",
   "metadata": {},
   "source": [
    "<a id='p3'></a>\n",
    "\n",
    "## Problema 03\n",
    "\n",
    "\n",
    "Un **cuadrado mágico** es una matriz de tamaño $n \\times n$ de números enteros positivos tal que \n",
    "la suma de los números por columnas, filas y diagonales principales sea la misma. Usualmente, los números empleados para rellenar las casillas son consecutivos, de 1 a $n^2$, siendo $n$ el número de columnas y filas del cuadrado mágico.\n",
    "\n",
    "Si los números son consecutivos de 1 a $n^2$, la suma de los números por columnas, filas y diagonales principales \n",
    "es igual a : $$M_{n} = \\dfrac{n(n^2+1)}{2}$$\n",
    "Por ejemplo, \n",
    "\n",
    "* $A= \\begin{pmatrix}\n",
    " 4& 9 &2 \\\\ \n",
    " 3&  5&7 \\\\ \n",
    " 8& 1 &6 \n",
    "\\end{pmatrix}$,\n",
    "es un cuadrado mágico.\n",
    "\n",
    "* $B= \\begin{pmatrix}\n",
    " 4& 2 &9 \\\\ \n",
    " 3&  5&7 \\\\ \n",
    " 8& 1 &6 \n",
    "\\end{pmatrix}$, no es un cuadrado mágico.\n",
    "\n",
    "Implemente una función llamada `es_cudrado_magico` cuyo input sea una matriz cuadrada de tamaño $n$ con números consecutivos de $1$ a $n^2$ y cuyo ouput retorne *True* si es un cuadrado mágico o 'False', en caso contrario\n",
    "\n",
    "* **Ejemplo**: *es_cudrado_magico($A$)* = True, *es_cudrado_magico($B$)* = False\n",
    "\n",
    "**Hint**: Cree una función que valide la mariz es cuadrada y  que sus números son consecutivos del 1 a $n^2$."
   ]
  },
  {
   "cell_type": "code",
   "execution_count": 22,
   "metadata": {},
   "outputs": [],
   "source": [
    "#Vamos a crear una función que avise si la matriz es cuadrada.\n",
    "def cuadrada(A=np.array):\n",
    "    size=np.shape(A) \n",
    "    if size[0]==size[1]: \n",
    "        return True\n",
    "    else:\n",
    "        return False\n",
    "    #Basta usar shape, corroborar si los elementos de la tupla son iguales y retornar la veracidad."
   ]
  },
  {
   "cell_type": "code",
   "execution_count": 25,
   "metadata": {},
   "outputs": [
    {
     "data": {
      "text/plain": [
       "True"
      ]
     },
     "execution_count": 25,
     "metadata": {},
     "output_type": "execute_result"
    }
   ],
   "source": [
    "A=np.zeros((3,3)) #ejemplo con matriz de 3x3\n",
    "cuadrada(A)"
   ]
  },
  {
   "cell_type": "code",
   "execution_count": 26,
   "metadata": {},
   "outputs": [
    {
     "data": {
      "text/plain": [
       "False"
      ]
     },
     "execution_count": 26,
     "metadata": {},
     "output_type": "execute_result"
    }
   ],
   "source": [
    "B=np.zeros((2,3)) #ejemplo con matriz de 2x3\n",
    "cuadrada(B)"
   ]
  },
  {
   "cell_type": "code",
   "execution_count": 35,
   "metadata": {},
   "outputs": [],
   "source": [
    "#Ahora hay que checkear si solo hay números consecutivos del 1 al n^2\n",
    "def consecutivos(A=np.array):\n",
    "    l=[] #Vamos a dejar la matriz en una lista y usar sort\n",
    "    \n",
    "    for i in range(np.shape(A)[0]):\n",
    "        for j in range(np.shape(A)[1]):\n",
    "            l.append(A[i][j]) #se recorre la matriz completa y se van agregando los términos\n",
    "            \n",
    "    l_ordenada=sorted(l) #se deja una lista ordenada\n",
    "    check= list(range(1, np.size(A)+1))  #Se crea la lista con los números ordenados.        \n",
    "    for i in range(len(l)):\n",
    "        if l_ordenada[i]!= check[i]:\n",
    "            return False #Basta que haya un solo término mal para que falle el programa\n",
    "    return True #Si logró pasar hasta acá es porque las listas son iguales, así que la matriz sólo tenía números consecutivos\n",
    "               "
   ]
  },
  {
   "cell_type": "code",
   "execution_count": 36,
   "metadata": {},
   "outputs": [
    {
     "data": {
      "text/plain": [
       "True"
      ]
     },
     "execution_count": 36,
     "metadata": {},
     "output_type": "execute_result"
    }
   ],
   "source": [
    "#ejemplo n°1: tiene números consecutivos (evidentemente)\n",
    "A=np.array([[1,2,3],[4,5,6],[7,8,9]]) \n",
    "consecutivos(A)"
   ]
  },
  {
   "cell_type": "code",
   "execution_count": 37,
   "metadata": {},
   "outputs": [
    {
     "data": {
      "text/plain": [
       "False"
      ]
     },
     "execution_count": 37,
     "metadata": {},
     "output_type": "execute_result"
    }
   ],
   "source": [
    "#ejemplo n°2: no tiene números consecutivos\n",
    "B=np.array([[2,3,4],[4,5,8],[1,2,3]])\n",
    "consecutivos(B)"
   ]
  },
  {
   "cell_type": "code",
   "execution_count": 80,
   "metadata": {},
   "outputs": [],
   "source": [
    "def es_cuadrado_magico(A=np.array):\n",
    "    if cuadrada(A)== False:\n",
    "        return \"La matriz debe ser cuadrada\" #Se debe chequear si la matriz es cuadrada\n",
    "    if consecutivos(A)== False:\n",
    "        return \"La matriz no tiene números consecutivos\" #Se debe chequear si la matriz está compuesta por números consecutivos\n",
    "    n=np.shape(A)[0] #Se necesita la dimensión de la matriz para corroborar el cuadrado\n",
    "    num_magico= n*(n**2 +1)/2\n",
    "    fila=0\n",
    "    col=0\n",
    "    diag_p=0\n",
    "    diag_s=0 #son las variables para corroborar el número mágico\n",
    "    \n",
    "    for i in range(n):\n",
    "        for j in range(n):\n",
    "            fila+=A[i][j]\n",
    "        if fila != num_magico: #Aquí se chequean que las filas cumplan la condición del número mágico\n",
    "            return \"El cuadrado no es mágico\" \n",
    "        fila=0 #hay que resetear la fila para volver a iterar\n",
    "        \n",
    "    for i in range(n):\n",
    "        for j in range(n):\n",
    "            col+=A[j][i] #Aquí que las columnas cumplan la condición del número mágico\n",
    "        if col != num_magico:\n",
    "            return \"El cuadrado no es mágico\"\n",
    "        col=0 #hay que resetear la columna para iterar otra vez\n",
    "        \n",
    "    for i in range(n):\n",
    "        diag_p+=A[i][i]\n",
    "    if diag_p != num_magico: #Ahora la diagonal principal\n",
    "        return \"El cuadrado no es mágico\"\n",
    "    \n",
    "    for i in range(n):\n",
    "        diag_s+=A[n-i-1][n-i-1]\n",
    "    if diag_s != num_magico: #Finalmenta la diagonal secundaria\n",
    "        return \"El cuadrado no es mágico\"\n",
    "        \n",
    "    return \"El cuadrado es mágico!\""
   ]
  },
  {
   "cell_type": "code",
   "execution_count": 81,
   "metadata": {},
   "outputs": [
    {
     "data": {
      "text/plain": [
       "'El cuadrado es mágico!'"
      ]
     },
     "execution_count": 81,
     "metadata": {},
     "output_type": "execute_result"
    }
   ],
   "source": [
    "#Ejemplo n°1: El cuadrado mágico del ejemplo\n",
    "A= np.array([[4,9,2],[3,5,7],[8,1,6]])\n",
    "es_cuadrado_magico(A)\n"
   ]
  },
  {
   "cell_type": "code",
   "execution_count": 82,
   "metadata": {},
   "outputs": [
    {
     "data": {
      "text/plain": [
       "'El cuadrado no es mágico'"
      ]
     },
     "execution_count": 82,
     "metadata": {},
     "output_type": "execute_result"
    }
   ],
   "source": [
    "#Ejemplo n°2: El tipico 1,2,..,9 evidentemente no es mágico\n",
    "B= np.array([[1,2,3],[4,5,6],[7,8,9]])\n",
    "es_cuadrado_magico(B)"
   ]
  }
 ],
 "metadata": {
  "kernelspec": {
   "display_name": "Python 3",
   "language": "python",
   "name": "python3"
  },
  "language_info": {
   "codemirror_mode": {
    "name": "ipython",
    "version": 3
   },
   "file_extension": ".py",
   "mimetype": "text/x-python",
   "name": "python",
   "nbconvert_exporter": "python",
   "pygments_lexer": "ipython3",
   "version": "3.7.3"
  }
 },
 "nbformat": 4,
 "nbformat_minor": 4
}
