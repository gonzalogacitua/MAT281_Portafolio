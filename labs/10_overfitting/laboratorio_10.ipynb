{
 "cells": [
  {
   "cell_type": "markdown",
   "metadata": {},
   "source": [
    "<img src=\"images/usm.jpg\" width=\"480\" height=\"240\" align=\"left\"/>"
   ]
  },
  {
   "cell_type": "markdown",
   "metadata": {},
   "source": [
    "# MAT281 - Laboratorio N°04\n",
    "\n",
    "## Objetivos del laboratorio\n",
    "\n",
    "* Reforzar conceptos básicos de reducción de dimensionalidad."
   ]
  },
  {
   "cell_type": "markdown",
   "metadata": {},
   "source": [
    "## Contenidos\n",
    "\n",
    "* [Problema 01](#p1)\n"
   ]
  },
  {
   "cell_type": "markdown",
   "metadata": {},
   "source": [
    "<a id='p1'></a>\n",
    "## I.- Problema 01\n",
    "\n",
    "\n",
    "<img src=\"https://www.goodnewsnetwork.org/wp-content/uploads/2019/07/immunotherapy-vaccine-attacks-cancer-cells-immune-blood-Fotolia_purchased.jpg\" width=\"360\" height=\"360\" align=\"center\"/>\n",
    "\n",
    "\n",
    "El **cáncer de mama**  es una proliferación maligna de las células epiteliales que revisten los conductos o lobulillos mamarios. Es una enfermedad clonal; donde una célula individual producto de una serie de mutaciones somáticas o de línea germinal adquiere la capacidad de dividirse sin control ni orden, haciendo que se reproduzca hasta formar un tumor. El tumor resultante, que comienza como anomalía leve, pasa a ser grave, invade tejidos vecinos y, finalmente, se propaga a otras partes del cuerpo.\n",
    "\n",
    "El conjunto de datos se denomina `BC.csv`, el cual contine la información de distintos pacientes con tumosres (benignos o malignos) y algunas características del mismo.\n",
    "\n",
    "\n",
    "Las características se calculan a partir de una imagen digitalizada de un aspirado con aguja fina (FNA) de una masa mamaria. Describen las características de los núcleos celulares presentes en la imagen.\n",
    "Los detalles se puede encontrar en [K. P. Bennett and O. L. Mangasarian: \"Robust Linear Programming Discrimination of Two Linearly Inseparable Sets\", Optimization Methods and Software 1, 1992, 23-34].\n",
    "\n",
    "\n",
    "Lo primero será cargar el conjunto de datos:"
   ]
  },
  {
   "cell_type": "code",
   "execution_count": 1,
   "metadata": {},
   "outputs": [],
   "source": [
    "import os\n",
    "import numpy as np\n",
    "import pandas as pd\n",
    "import matplotlib.pyplot as plt\n",
    "import seaborn as sns\n",
    "\n",
    "from sklearn.preprocessing import StandardScaler\n",
    "from sklearn.decomposition import PCA\n",
    "\n",
    "\n",
    "%matplotlib inline\n",
    "sns.set_palette(\"deep\", desat=.6)\n",
    "sns.set(rc={'figure.figsize':(11.7,8.27)})"
   ]
  },
  {
   "cell_type": "code",
   "execution_count": 2,
   "metadata": {},
   "outputs": [
    {
     "data": {
      "text/html": [
       "<div>\n",
       "<style scoped>\n",
       "    .dataframe tbody tr th:only-of-type {\n",
       "        vertical-align: middle;\n",
       "    }\n",
       "\n",
       "    .dataframe tbody tr th {\n",
       "        vertical-align: top;\n",
       "    }\n",
       "\n",
       "    .dataframe thead th {\n",
       "        text-align: right;\n",
       "    }\n",
       "</style>\n",
       "<table border=\"1\" class=\"dataframe\">\n",
       "  <thead>\n",
       "    <tr style=\"text-align: right;\">\n",
       "      <th></th>\n",
       "      <th>id</th>\n",
       "      <th>diagnosis</th>\n",
       "      <th>radius_mean</th>\n",
       "      <th>texture_mean</th>\n",
       "      <th>perimeter_mean</th>\n",
       "      <th>area_mean</th>\n",
       "      <th>smoothness_mean</th>\n",
       "      <th>compactness_mean</th>\n",
       "      <th>concavity_mean</th>\n",
       "      <th>concave points_mean</th>\n",
       "      <th>...</th>\n",
       "      <th>radius_worst</th>\n",
       "      <th>texture_worst</th>\n",
       "      <th>perimeter_worst</th>\n",
       "      <th>area_worst</th>\n",
       "      <th>smoothness_worst</th>\n",
       "      <th>compactness_worst</th>\n",
       "      <th>concavity_worst</th>\n",
       "      <th>concave points_worst</th>\n",
       "      <th>symmetry_worst</th>\n",
       "      <th>fractal_dimension_worst</th>\n",
       "    </tr>\n",
       "  </thead>\n",
       "  <tbody>\n",
       "    <tr>\n",
       "      <th>0</th>\n",
       "      <td>842302</td>\n",
       "      <td>1</td>\n",
       "      <td>17.99</td>\n",
       "      <td>10.38</td>\n",
       "      <td>122.80</td>\n",
       "      <td>1001.0</td>\n",
       "      <td>0.11840</td>\n",
       "      <td>0.27760</td>\n",
       "      <td>0.3001</td>\n",
       "      <td>0.14710</td>\n",
       "      <td>...</td>\n",
       "      <td>25.38</td>\n",
       "      <td>17.33</td>\n",
       "      <td>184.60</td>\n",
       "      <td>2019.0</td>\n",
       "      <td>0.1622</td>\n",
       "      <td>0.6656</td>\n",
       "      <td>0.7119</td>\n",
       "      <td>0.2654</td>\n",
       "      <td>0.4601</td>\n",
       "      <td>0.11890</td>\n",
       "    </tr>\n",
       "    <tr>\n",
       "      <th>1</th>\n",
       "      <td>842517</td>\n",
       "      <td>1</td>\n",
       "      <td>20.57</td>\n",
       "      <td>17.77</td>\n",
       "      <td>132.90</td>\n",
       "      <td>1326.0</td>\n",
       "      <td>0.08474</td>\n",
       "      <td>0.07864</td>\n",
       "      <td>0.0869</td>\n",
       "      <td>0.07017</td>\n",
       "      <td>...</td>\n",
       "      <td>24.99</td>\n",
       "      <td>23.41</td>\n",
       "      <td>158.80</td>\n",
       "      <td>1956.0</td>\n",
       "      <td>0.1238</td>\n",
       "      <td>0.1866</td>\n",
       "      <td>0.2416</td>\n",
       "      <td>0.1860</td>\n",
       "      <td>0.2750</td>\n",
       "      <td>0.08902</td>\n",
       "    </tr>\n",
       "    <tr>\n",
       "      <th>2</th>\n",
       "      <td>84300903</td>\n",
       "      <td>1</td>\n",
       "      <td>19.69</td>\n",
       "      <td>21.25</td>\n",
       "      <td>130.00</td>\n",
       "      <td>1203.0</td>\n",
       "      <td>0.10960</td>\n",
       "      <td>0.15990</td>\n",
       "      <td>0.1974</td>\n",
       "      <td>0.12790</td>\n",
       "      <td>...</td>\n",
       "      <td>23.57</td>\n",
       "      <td>25.53</td>\n",
       "      <td>152.50</td>\n",
       "      <td>1709.0</td>\n",
       "      <td>0.1444</td>\n",
       "      <td>0.4245</td>\n",
       "      <td>0.4504</td>\n",
       "      <td>0.2430</td>\n",
       "      <td>0.3613</td>\n",
       "      <td>0.08758</td>\n",
       "    </tr>\n",
       "    <tr>\n",
       "      <th>3</th>\n",
       "      <td>84348301</td>\n",
       "      <td>1</td>\n",
       "      <td>11.42</td>\n",
       "      <td>20.38</td>\n",
       "      <td>77.58</td>\n",
       "      <td>386.1</td>\n",
       "      <td>0.14250</td>\n",
       "      <td>0.28390</td>\n",
       "      <td>0.2414</td>\n",
       "      <td>0.10520</td>\n",
       "      <td>...</td>\n",
       "      <td>14.91</td>\n",
       "      <td>26.50</td>\n",
       "      <td>98.87</td>\n",
       "      <td>567.7</td>\n",
       "      <td>0.2098</td>\n",
       "      <td>0.8663</td>\n",
       "      <td>0.6869</td>\n",
       "      <td>0.2575</td>\n",
       "      <td>0.6638</td>\n",
       "      <td>0.17300</td>\n",
       "    </tr>\n",
       "    <tr>\n",
       "      <th>4</th>\n",
       "      <td>84358402</td>\n",
       "      <td>1</td>\n",
       "      <td>20.29</td>\n",
       "      <td>14.34</td>\n",
       "      <td>135.10</td>\n",
       "      <td>1297.0</td>\n",
       "      <td>0.10030</td>\n",
       "      <td>0.13280</td>\n",
       "      <td>0.1980</td>\n",
       "      <td>0.10430</td>\n",
       "      <td>...</td>\n",
       "      <td>22.54</td>\n",
       "      <td>16.67</td>\n",
       "      <td>152.20</td>\n",
       "      <td>1575.0</td>\n",
       "      <td>0.1374</td>\n",
       "      <td>0.2050</td>\n",
       "      <td>0.4000</td>\n",
       "      <td>0.1625</td>\n",
       "      <td>0.2364</td>\n",
       "      <td>0.07678</td>\n",
       "    </tr>\n",
       "  </tbody>\n",
       "</table>\n",
       "<p>5 rows × 32 columns</p>\n",
       "</div>"
      ],
      "text/plain": [
       "         id  diagnosis  radius_mean  texture_mean  perimeter_mean  area_mean  \\\n",
       "0    842302          1        17.99         10.38          122.80     1001.0   \n",
       "1    842517          1        20.57         17.77          132.90     1326.0   \n",
       "2  84300903          1        19.69         21.25          130.00     1203.0   \n",
       "3  84348301          1        11.42         20.38           77.58      386.1   \n",
       "4  84358402          1        20.29         14.34          135.10     1297.0   \n",
       "\n",
       "   smoothness_mean  compactness_mean  concavity_mean  concave points_mean  \\\n",
       "0          0.11840           0.27760          0.3001              0.14710   \n",
       "1          0.08474           0.07864          0.0869              0.07017   \n",
       "2          0.10960           0.15990          0.1974              0.12790   \n",
       "3          0.14250           0.28390          0.2414              0.10520   \n",
       "4          0.10030           0.13280          0.1980              0.10430   \n",
       "\n",
       "   ...  radius_worst  texture_worst  perimeter_worst  area_worst  \\\n",
       "0  ...         25.38          17.33           184.60      2019.0   \n",
       "1  ...         24.99          23.41           158.80      1956.0   \n",
       "2  ...         23.57          25.53           152.50      1709.0   \n",
       "3  ...         14.91          26.50            98.87       567.7   \n",
       "4  ...         22.54          16.67           152.20      1575.0   \n",
       "\n",
       "   smoothness_worst  compactness_worst  concavity_worst  concave points_worst  \\\n",
       "0            0.1622             0.6656           0.7119                0.2654   \n",
       "1            0.1238             0.1866           0.2416                0.1860   \n",
       "2            0.1444             0.4245           0.4504                0.2430   \n",
       "3            0.2098             0.8663           0.6869                0.2575   \n",
       "4            0.1374             0.2050           0.4000                0.1625   \n",
       "\n",
       "   symmetry_worst  fractal_dimension_worst  \n",
       "0          0.4601                  0.11890  \n",
       "1          0.2750                  0.08902  \n",
       "2          0.3613                  0.08758  \n",
       "3          0.6638                  0.17300  \n",
       "4          0.2364                  0.07678  \n",
       "\n",
       "[5 rows x 32 columns]"
      ]
     },
     "execution_count": 2,
     "metadata": {},
     "output_type": "execute_result"
    }
   ],
   "source": [
    "# cargar datos\n",
    "df = pd.read_csv(os.path.join(\"data\",\"BC.csv\"), sep=\",\")\n",
    "df['diagnosis'] = df['diagnosis'] .replace({'M':1,'B':0})\n",
    "df.head()"
   ]
  },
  {
   "cell_type": "markdown",
   "metadata": {},
   "source": [
    "Basado en la información presentada responda las siguientes preguntas:\n",
    "\n",
    "\n",
    "1. Normalizar para las columnas numéricas con procesamiento **StandardScaler**.\n",
    "2. Realice un gráfico de correlación. Identifique la existencia de colinealidad.\n",
    "3. Realizar un ajuste PCA con **n_components = 10**. Realice un gráfico de la varianza y varianza acumulada. Interprete.\n",
    "4. Devuelva un dataframe con las componentes principales.\n",
    "5. Aplique al menos tres modelos de clasificación. Para cada modelo, calule el valor de sus métricas."
   ]
  },
  {
   "cell_type": "code",
   "execution_count": 3,
   "metadata": {},
   "outputs": [
    {
     "data": {
      "text/plain": [
       "array([False])"
      ]
     },
     "execution_count": 3,
     "metadata": {},
     "output_type": "execute_result"
    }
   ],
   "source": [
    "#Hay que revisar que no hayan elementos NAN\n",
    "df.isna().all().unique()"
   ]
  },
  {
   "cell_type": "markdown",
   "metadata": {},
   "source": [
    "Desde el dataset, debido a que es un *conjunto supervisado*, se deben crear los conjuntos de atributos y características, y el conjunto de las etiquetas."
   ]
  },
  {
   "cell_type": "code",
   "execution_count": 4,
   "metadata": {},
   "outputs": [],
   "source": [
    "X = df.loc[:, df.columns[2:]].values\n",
    "y = df.loc[:, ['diagnosis']].values"
   ]
  },
  {
   "cell_type": "code",
   "execution_count": 5,
   "metadata": {},
   "outputs": [],
   "source": [
    "#Se normaliza con Standard Scaler\n",
    "X = StandardScaler().fit_transform(X)"
   ]
  },
  {
   "cell_type": "markdown",
   "metadata": {},
   "source": [
    "Se debe realizar un análisis exploratorio de los datos"
   ]
  },
  {
   "cell_type": "code",
   "execution_count": 6,
   "metadata": {},
   "outputs": [
    {
     "data": {
      "image/png": "[encoded data removed]",
      "text/plain": [
       "<Figure size 576x576 with 2 Axes>"
      ]
     },
     "metadata": {
      "needs_background": "light"
     },
     "output_type": "display_data"
    }
   ],
   "source": [
    "predictor_names = df.columns[2:]\n",
    "n_show = min(len(predictor_names),50)\n",
    "\n",
    "corrmat = df[predictor_names[:n_show]].corr() #Correlación de las variables\n",
    "fig, ax = plt.subplots(figsize=(8, 8)) \n",
    "sns.heatmap(corrmat, vmax=.9, square=True, ax=ax,cmap=\"PuBuGn\") #Mapa de calor\n",
    "ax.set_title(\"Correlación Lineal Predictores vs Predictores\")\n",
    "plt.show()"
   ]
  },
  {
   "cell_type": "markdown",
   "metadata": {},
   "source": [
    "Es sabido que, las áreas donde se tiene zonas más oscuras, indican una mayor correlación de las variables. Esto es malo a la hora de entrenar el modelo. Siempre se trata de que las variables sean lo más linealmente independientes entre sí para no caer en el overfitting. Para lidiar con esto, se realizará una reducción de la dimensionalidad."
   ]
  },
  {
   "cell_type": "code",
   "execution_count": 7,
   "metadata": {},
   "outputs": [],
   "source": [
    "pca = PCA(n_components=10) #Modelo, se tomarán 10 n-componentes, es decir, se tomarán 10 variables para reducir la dimensión\n",
    "principalComponents = pca.fit_transform(X) #fit del modelo"
   ]
  },
  {
   "cell_type": "code",
   "execution_count": 8,
   "metadata": {},
   "outputs": [
    {
     "data": {
      "image/png": "[encoded data removed]",
      "text/plain": [
       "<Figure size 1080x504 with 1 Axes>"
      ]
     },
     "metadata": {
      "needs_background": "light"
     },
     "output_type": "display_data"
    }
   ],
   "source": [
    "#Varianzas por n-componentes\n",
    "percent_variance = np.round(pca.explained_variance_ratio_, decimals =3)\n",
    "columns = ['PC1', 'PC2', 'PC3', 'PC4', 'PC5', 'PC6', 'PC7', 'PC8', 'PC9', 'PC10']\n",
    "\n",
    "plt.figure(figsize=(15,7))\n",
    "plt.bar(x= range(1,11), height=percent_variance, tick_label=columns)\n",
    "plt.ylabel('Percentate of Variance Explained')\n",
    "plt.xlabel('Principal Component')\n",
    "plt.title('PCA Scree Plot')\n",
    "plt.show()"
   ]
  },
  {
   "cell_type": "code",
   "execution_count": 9,
   "metadata": {},
   "outputs": [
    {
     "data": {
      "image/png": "[encoded data removed]",
      "text/plain": [
       "<Figure size 1080x504 with 1 Axes>"
      ]
     },
     "metadata": {
      "needs_background": "light"
     },
     "output_type": "display_data"
    }
   ],
   "source": [
    "# Gráfico de Varianza acumulada entre las n-componentes\n",
    "percent_variance_cum = np.cumsum(percent_variance)\n",
    "columns = ['PC1', \n",
    "           'PC1+PC2', \n",
    "           'PC1+PC2+PC3', \n",
    "           'PC1+PC2+PC3+PC4', \n",
    "           'PC1+PC2+PC3+PC4+PC5', \n",
    "           'PC1+PC2+PC3+PC4+PC5+PC6',\n",
    "           'PC1+PC2+PC3+PC4+PC5+PC6+PC7',\n",
    "           'PC1+PC2+PC3+PC4+PC5+PC6+PC7+PC8',\n",
    "           'PC1+PC2+PC3+PC4+PC5+PC6+PC7+PC8+PC9',\n",
    "           'PC1+PC2+PC3+PC4+PC5+PC6+PC7+PC8+PC9+PC10']\n",
    "\n",
    "plt.figure(figsize=(15,7))\n",
    "plt.bar(x= range(1,11), height=percent_variance_cum, tick_label=columns)\n",
    "plt.xticks(x= range(1,11), rotation='vertical')\n",
    "plt.ylabel('Percentate of Variance Explained')\n",
    "plt.xlabel('Principal Component Cumsum')\n",
    "plt.title('PCA Scree Plot')\n",
    "plt.show()"
   ]
  },
  {
   "cell_type": "code",
   "execution_count": 10,
   "metadata": {},
   "outputs": [
    {
     "data": {
      "text/plain": [
       "0.9530000000000001"
      ]
     },
     "execution_count": 10,
     "metadata": {},
     "output_type": "execute_result"
    }
   ],
   "source": [
    "#Veamos cuanto es el valor del acumulado al final\n",
    "percent_variance_cum[9]"
   ]
  },
  {
   "cell_type": "markdown",
   "metadata": {},
   "source": [
    "Lo anterior nos indica que con solo 10 n-componentes se puede resumir la información del dataset en un 95.3%. Hemos de ver cuales son dichos componentes."
   ]
  },
  {
   "cell_type": "code",
   "execution_count": 11,
   "metadata": {},
   "outputs": [
    {
     "data": {
      "text/html": [
       "<div>\n",
       "<style scoped>\n",
       "    .dataframe tbody tr th:only-of-type {\n",
       "        vertical-align: middle;\n",
       "    }\n",
       "\n",
       "    .dataframe tbody tr th {\n",
       "        vertical-align: top;\n",
       "    }\n",
       "\n",
       "    .dataframe thead th {\n",
       "        text-align: right;\n",
       "    }\n",
       "</style>\n",
       "<table border=\"1\" class=\"dataframe\">\n",
       "  <thead>\n",
       "    <tr style=\"text-align: right;\">\n",
       "      <th></th>\n",
       "      <th>PC1</th>\n",
       "      <th>PC2</th>\n",
       "      <th>PC3</th>\n",
       "      <th>PC4</th>\n",
       "      <th>PC5</th>\n",
       "      <th>PC6</th>\n",
       "      <th>PC7</th>\n",
       "      <th>PC8</th>\n",
       "      <th>PC9</th>\n",
       "      <th>PC10</th>\n",
       "      <th>diagnosis</th>\n",
       "    </tr>\n",
       "  </thead>\n",
       "  <tbody>\n",
       "    <tr>\n",
       "      <th>0</th>\n",
       "      <td>9.192837</td>\n",
       "      <td>1.948583</td>\n",
       "      <td>-1.123166</td>\n",
       "      <td>3.633731</td>\n",
       "      <td>-1.195110</td>\n",
       "      <td>1.411424</td>\n",
       "      <td>2.159370</td>\n",
       "      <td>-0.398408</td>\n",
       "      <td>-0.157120</td>\n",
       "      <td>-0.877403</td>\n",
       "      <td>1</td>\n",
       "    </tr>\n",
       "    <tr>\n",
       "      <th>1</th>\n",
       "      <td>2.387802</td>\n",
       "      <td>-3.768172</td>\n",
       "      <td>-0.529293</td>\n",
       "      <td>1.118264</td>\n",
       "      <td>0.621775</td>\n",
       "      <td>0.028656</td>\n",
       "      <td>0.013358</td>\n",
       "      <td>0.240988</td>\n",
       "      <td>-0.711902</td>\n",
       "      <td>1.106993</td>\n",
       "      <td>1</td>\n",
       "    </tr>\n",
       "    <tr>\n",
       "      <th>2</th>\n",
       "      <td>5.733896</td>\n",
       "      <td>-1.075174</td>\n",
       "      <td>-0.551748</td>\n",
       "      <td>0.912083</td>\n",
       "      <td>-0.177086</td>\n",
       "      <td>0.541452</td>\n",
       "      <td>-0.668166</td>\n",
       "      <td>0.097377</td>\n",
       "      <td>0.024071</td>\n",
       "      <td>0.454285</td>\n",
       "      <td>1</td>\n",
       "    </tr>\n",
       "    <tr>\n",
       "      <th>3</th>\n",
       "      <td>7.122953</td>\n",
       "      <td>10.275589</td>\n",
       "      <td>-3.232790</td>\n",
       "      <td>0.152547</td>\n",
       "      <td>-2.960878</td>\n",
       "      <td>3.053422</td>\n",
       "      <td>1.429911</td>\n",
       "      <td>1.059569</td>\n",
       "      <td>-1.405430</td>\n",
       "      <td>-1.116961</td>\n",
       "      <td>1</td>\n",
       "    </tr>\n",
       "    <tr>\n",
       "      <th>4</th>\n",
       "      <td>3.935302</td>\n",
       "      <td>-1.948072</td>\n",
       "      <td>1.389767</td>\n",
       "      <td>2.940639</td>\n",
       "      <td>0.546747</td>\n",
       "      <td>-1.226495</td>\n",
       "      <td>-0.936213</td>\n",
       "      <td>0.636375</td>\n",
       "      <td>-0.263808</td>\n",
       "      <td>0.377701</td>\n",
       "      <td>1</td>\n",
       "    </tr>\n",
       "  </tbody>\n",
       "</table>\n",
       "</div>"
      ],
      "text/plain": [
       "        PC1        PC2       PC3       PC4       PC5       PC6       PC7  \\\n",
       "0  9.192837   1.948583 -1.123166  3.633731 -1.195110  1.411424  2.159370   \n",
       "1  2.387802  -3.768172 -0.529293  1.118264  0.621775  0.028656  0.013358   \n",
       "2  5.733896  -1.075174 -0.551748  0.912083 -0.177086  0.541452 -0.668166   \n",
       "3  7.122953  10.275589 -3.232790  0.152547 -2.960878  3.053422  1.429911   \n",
       "4  3.935302  -1.948072  1.389767  2.940639  0.546747 -1.226495 -0.936213   \n",
       "\n",
       "        PC8       PC9      PC10  diagnosis  \n",
       "0 -0.398408 -0.157120 -0.877403          1  \n",
       "1  0.240988 -0.711902  1.106993          1  \n",
       "2  0.097377  0.024071  0.454285          1  \n",
       "3  1.059569 -1.405430 -1.116961          1  \n",
       "4  0.636375 -0.263808  0.377701          1  "
      ]
     },
     "execution_count": 11,
     "metadata": {},
     "output_type": "execute_result"
    }
   ],
   "source": [
    "principalDataframe = pd.DataFrame(data = principalComponents, \n",
    "                                  columns = ['PC1', 'PC2', 'PC3', 'PC4', 'PC5', 'PC6', 'PC7', 'PC8', 'PC9', 'PC10'])\n",
    "targetDataframe = df[['diagnosis']]\n",
    "\n",
    "df_reducido = pd.concat([principalDataframe, targetDataframe],axis = 1)\n",
    "df_reducido.head()"
   ]
  },
  {
   "cell_type": "markdown",
   "metadata": {},
   "source": [
    "Y listo! Se redujo la dimensionalidad del problema a través del Principal Component Analisys. \n",
    "Se pasará ahora a hacer el ajuste de los modelos, y evaluar en base a las métricas que se impongan."
   ]
  },
  {
   "cell_type": "code",
   "execution_count": 12,
   "metadata": {},
   "outputs": [],
   "source": [
    "from sklearn.model_selection import train_test_split\n",
    "from sklearn.svm import SVC\n",
    "from sklearn.tree import DecisionTreeClassifier,DecisionTreeRegressor\n",
    "\n",
    "#Se utilizan las componentes proyectadas\n",
    "X = df_reducido[['PC1', 'PC2', 'PC3', 'PC4', 'PC5', 'PC6', 'PC7', 'PC8', 'PC9', 'PC10']]\n",
    "Y = df_reducido['diagnosis']\n",
    "\n",
    "#Se crean los conjuntos de entrenamiento y test desde los conjuntos definidos anteriormente\n",
    "X_train, X_test, Y_train, Y_test = train_test_split(X, Y, test_size=0.33, random_state = 2)"
   ]
  },
  {
   "cell_type": "markdown",
   "metadata": {},
   "source": [
    "Se utilizarán como clasificadores **Support Vector Machine-C, Random Forest y OVO.**"
   ]
  },
  {
   "cell_type": "code",
   "execution_count": 13,
   "metadata": {},
   "outputs": [],
   "source": [
    "from sklearn.ensemble import RandomForestClassifier\n",
    "from sklearn.multiclass import OneVsOneClassifier\n",
    "from sklearn.svm import LinearSVC\n",
    "from sklearn import svm\n",
    "\n",
    "#Se crean los clasificadores\n",
    "clf1 = svm.SVC(random_state=2) # Clasificador 1: SVM-C\n",
    "clf2 = RandomForestClassifier(max_depth=2, random_state=2) # Clasificador 2: Random Forest\n",
    "clf3 = OneVsOneClassifier(LinearSVC(random_state=2)) # Clasificador 3: OVO"
   ]
  },
  {
   "cell_type": "code",
   "execution_count": 14,
   "metadata": {},
   "outputs": [
    {
     "name": "stderr",
     "output_type": "stream",
     "text": [
      "C:\\Users\\56982\\Anaconda3\\lib\\site-packages\\sklearn\\svm\\base.py:193: FutureWarning: The default value of gamma will change from 'auto' to 'scale' in version 0.22 to account better for unscaled features. Set gamma explicitly to 'auto' or 'scale' to avoid this warning.\n",
      "  \"avoid this warning.\", FutureWarning)\n",
      "C:\\Users\\56982\\Anaconda3\\lib\\site-packages\\sklearn\\ensemble\\forest.py:245: FutureWarning: The default value of n_estimators will change from 10 in version 0.20 to 100 in 0.22.\n",
      "  \"10 in version 0.20 to 100 in 0.22.\", FutureWarning)\n"
     ]
    },
    {
     "data": {
      "text/plain": [
       "OneVsOneClassifier(estimator=LinearSVC(C=1.0, class_weight=None, dual=True,\n",
       "                                       fit_intercept=True, intercept_scaling=1,\n",
       "                                       loss='squared_hinge', max_iter=1000,\n",
       "                                       multi_class='ovr', penalty='l2',\n",
       "                                       random_state=2, tol=0.0001, verbose=0),\n",
       "                   n_jobs=None)"
      ]
     },
     "execution_count": 14,
     "metadata": {},
     "output_type": "execute_result"
    }
   ],
   "source": [
    "#Se fittean los clasificadores a los conjuntos de entrenamiento\n",
    "clf1.fit(X_train,Y_train)\n",
    "clf2.fit(X_train,Y_train)\n",
    "clf3.fit(X_train,Y_train)"
   ]
  },
  {
   "cell_type": "markdown",
   "metadata": {},
   "source": [
    "Se han de revisar los predictores."
   ]
  },
  {
   "cell_type": "code",
   "execution_count": 15,
   "metadata": {},
   "outputs": [],
   "source": [
    "\n",
    "#Y_predict i _train/test representa la predicción del conjunto de train/test para el i-ésimo modelo\n",
    "Y_predict1_train = clf1.predict(X_train)\n",
    "Y_predict1_test = clf1.predict(X_test)\n",
    "\n",
    "Y_predict2_train = clf2.predict(X_train)\n",
    "Y_predict2_test = clf2.predict(X_test)\n",
    "\n",
    "Y_predict3_train = clf3.predict(X_train)\n",
    "Y_predict3_test = clf3.predict(X_test)"
   ]
  },
  {
   "cell_type": "markdown",
   "metadata": {},
   "source": [
    "Se utilizará la **accuracy** como métrica para evaluar."
   ]
  },
  {
   "cell_type": "code",
   "execution_count": 16,
   "metadata": {},
   "outputs": [],
   "source": [
    "from sklearn import metrics \n",
    "from sklearn.metrics import confusion_matrix\n",
    "from sklearn.metrics import classification_report\n",
    "from sklearn.metrics import roc_auc_score"
   ]
  },
  {
   "cell_type": "code",
   "execution_count": 17,
   "metadata": {},
   "outputs": [
    {
     "name": "stdout",
     "output_type": "stream",
     "text": [
      "Accuracy Score sobre train_set - SVM-C:  0.9921259842519685\n",
      "Accuracy Score sobre test_set - SVM-C:  0.9521276595744681\n",
      "\n",
      "Accuracy Score sobre train_set - Random Forest:  0.9212598425196851\n",
      "Accuracy Score sobre test_set - Random Forest:  0.9202127659574468\n",
      "\n",
      "Accuracy Score sobre train_set - OVO:  0.9868766404199475\n",
      "Accuracy Score sobre test_set - OVO:  0.973404255319149\n"
     ]
    }
   ],
   "source": [
    "print('Accuracy Score sobre train_set - SVM-C: ', metrics.accuracy_score(Y_train, Y_predict1_train))\n",
    "print('Accuracy Score sobre test_set - SVM-C: ', metrics.accuracy_score(Y_test, Y_predict1_test)) \n",
    "print('')\n",
    "print('Accuracy Score sobre train_set - Random Forest: ', metrics.accuracy_score(Y_train, Y_predict2_train))\n",
    "print('Accuracy Score sobre test_set - Random Forest: ', metrics.accuracy_score(Y_test, Y_predict2_test)) \n",
    "print('')\n",
    "print('Accuracy Score sobre train_set - OVO: ', metrics.accuracy_score(Y_train, Y_predict3_train))\n",
    "print('Accuracy Score sobre test_set - OVO: ', metrics.accuracy_score(Y_test, Y_predict3_test))"
   ]
  },
  {
   "cell_type": "markdown",
   "metadata": {},
   "source": [
    "Se tienen buenos resultados. La accuracy de los conjuntos de testeo y training son muy parecidos. Lo anterior indica que probablemente **no hay overfitting**. PCA ayuda a hacer linealmente independiente los datos.\n",
    "\n",
    "Sin embargo, existe un problema. Puede que no se esté considerando algo, para ello, se verán como rinden las otras métricas. Es de destacar que se utilizará el promedio con pesos."
   ]
  },
  {
   "cell_type": "code",
   "execution_count": 23,
   "metadata": {},
   "outputs": [
    {
     "name": "stdout",
     "output_type": "stream",
     "text": [
      "Métricas SVM:\n",
      "\n",
      "SUPPORT VECTOR MACHINE-C Train\n",
      "Accuracy Score - SVM - Train: 0.9921259842519685\n",
      "F1 Score - SVM - Train: 0.9921072876904014\n",
      "              precision    recall  f1-score   support\n",
      "\n",
      "           0       0.99      1.00      0.99       242\n",
      "           1       1.00      0.98      0.99       139\n",
      "\n",
      "    accuracy                           0.99       381\n",
      "   macro avg       0.99      0.99      0.99       381\n",
      "weighted avg       0.99      0.99      0.99       381\n",
      "\n",
      "\n",
      "\n",
      "SUPPORT VECTOR MACHINE-C Test\n",
      "Accuracy Score - SVM - Test: 0.9521276595744681\n",
      "F1 Score - SVM - Test: 0.9522932588362067\n",
      "              precision    recall  f1-score   support\n",
      "\n",
      "           0       0.97      0.95      0.96       115\n",
      "           1       0.92      0.96      0.94        73\n",
      "\n",
      "    accuracy                           0.95       188\n",
      "   macro avg       0.95      0.95      0.95       188\n",
      "weighted avg       0.95      0.95      0.95       188\n",
      "\n",
      "\n",
      "\n"
     ]
    }
   ],
   "source": [
    "print('Métricas SVM:')\n",
    "print('')\n",
    "\n",
    "print('SUPPORT VECTOR MACHINE-C Train')\n",
    "print('Accuracy Score - SVM - Train:', metrics.accuracy_score(Y_train, Y_predict1_train))\n",
    "print('F1 Score - SVM - Train:', metrics.f1_score(Y_train, Y_predict1_train,average='weighted'))\n",
    "class_report_RF_1 = classification_report(Y_train, Y_predict1_train) #classification report\n",
    "print(class_report_RF_1)\n",
    "print('')\n",
    "print('')\n",
    "\n",
    "\n",
    "print('SUPPORT VECTOR MACHINE-C Test')\n",
    "print('Accuracy Score - SVM - Test:', metrics.accuracy_score(Y_test, Y_predict1_test))\n",
    "print('F1 Score - SVM - Test:', metrics.f1_score(Y_test, Y_predict1_test,average='weighted'))\n",
    "class_report_RF_2 = classification_report(Y_test, Y_predict1_test)\n",
    "print(class_report_RF_2)\n",
    "print('')\n",
    "print('')"
   ]
  },
  {
   "cell_type": "code",
   "execution_count": 21,
   "metadata": {},
   "outputs": [
    {
     "name": "stdout",
     "output_type": "stream",
     "text": [
      "Métricas Random Forest:\n",
      "\n",
      "RANDOM FOREST Train\n",
      "Accuracy Score - RFC - Train: 0.9212598425196851\n",
      "F1 Score - RFC - Train: 0.9213776960452557\n",
      "              precision    recall  f1-score   support\n",
      "\n",
      "           0       0.94      0.93      0.94       242\n",
      "           1       0.89      0.90      0.89       139\n",
      "\n",
      "    accuracy                           0.92       381\n",
      "   macro avg       0.91      0.92      0.92       381\n",
      "weighted avg       0.92      0.92      0.92       381\n",
      "\n",
      "\n",
      "\n",
      "RANDOM FOREST Test\n",
      "Accuracy Score - RFC - Test: 0.9202127659574468\n",
      "F1 Score - RFC - Test: 0.9198894886503324\n",
      "              precision    recall  f1-score   support\n",
      "\n",
      "           0       0.92      0.95      0.94       115\n",
      "           1       0.91      0.88      0.90        73\n",
      "\n",
      "    accuracy                           0.92       188\n",
      "   macro avg       0.92      0.91      0.92       188\n",
      "weighted avg       0.92      0.92      0.92       188\n",
      "\n",
      "\n",
      "\n"
     ]
    }
   ],
   "source": [
    "print('Métricas Random Forest:')\n",
    "print('')\n",
    "\n",
    "print('RANDOM FOREST Train')\n",
    "print('Accuracy Score - RFC - Train:', metrics.accuracy_score(Y_train, Y_predict2_train))\n",
    "print('F1 Score - RFC - Train:', metrics.f1_score(Y_train, Y_predict2_train,average='weighted'))\n",
    "class_report_RF_3 = classification_report(Y_train, Y_predict2_train) #classification report\n",
    "print(class_report_RF_3)\n",
    "print('')\n",
    "print('')\n",
    "\n",
    "\n",
    "print('RANDOM FOREST Test')\n",
    "print('Accuracy Score - RFC - Test:', metrics.accuracy_score(Y_test, Y_predict2_test))\n",
    "print('F1 Score - RFC - Test:', metrics.f1_score(Y_test, Y_predict2_test,average='weighted'))\n",
    "class_report_RF_4 = classification_report(Y_test, Y_predict2_test)\n",
    "print(class_report_RF_4)\n",
    "print('')\n",
    "print('')"
   ]
  },
  {
   "cell_type": "code",
   "execution_count": 24,
   "metadata": {},
   "outputs": [
    {
     "name": "stdout",
     "output_type": "stream",
     "text": [
      "Métricas One Vs One:\n",
      "\n",
      "ONE VS ONE Train\n",
      "Accuracy Score - OVO - Train: 0.9868766404199475\n",
      "F1 Score - OVO - Train: 0.9868454794840024\n",
      "              precision    recall  f1-score   support\n",
      "\n",
      "           0       0.98      1.00      0.99       242\n",
      "           1       0.99      0.97      0.98       139\n",
      "\n",
      "    accuracy                           0.99       381\n",
      "   macro avg       0.99      0.98      0.99       381\n",
      "weighted avg       0.99      0.99      0.99       381\n",
      "\n",
      "\n",
      "\n",
      "ONE VS ONE Test\n",
      "Accuracy Score - OVO - Test: 0.973404255319149\n",
      "F1 Score - OVO - Test: 0.9733701124016605\n",
      "              precision    recall  f1-score   support\n",
      "\n",
      "           0       0.97      0.98      0.98       115\n",
      "           1       0.97      0.96      0.97        73\n",
      "\n",
      "    accuracy                           0.97       188\n",
      "   macro avg       0.97      0.97      0.97       188\n",
      "weighted avg       0.97      0.97      0.97       188\n",
      "\n",
      "\n",
      "\n"
     ]
    }
   ],
   "source": [
    "print('Métricas One Vs One:')\n",
    "print('')\n",
    "print('ONE VS ONE Train')\n",
    "print('Accuracy Score - OVO - Train:', metrics.accuracy_score(Y_train, Y_predict3_train))\n",
    "print('F1 Score - OVO - Train:', metrics.f1_score(Y_train, Y_predict3_train,average='weighted'))\n",
    "class_report_RF_5 = classification_report(Y_train, Y_predict3_train) #classification report\n",
    "print(class_report_RF_5)\n",
    "print('')\n",
    "print('')\n",
    "\n",
    "\n",
    "print('ONE VS ONE Test')\n",
    "print('Accuracy Score - OVO - Test:', metrics.accuracy_score(Y_test, Y_predict3_test))\n",
    "print('F1 Score - OVO - Test:', metrics.f1_score(Y_test, Y_predict3_test,average='weighted'))\n",
    "class_report_RF_6 = classification_report(Y_test, Y_predict3_test)\n",
    "print(class_report_RF_6)\n",
    "print('')\n",
    "print('')"
   ]
  },
  {
   "cell_type": "markdown",
   "metadata": {},
   "source": [
    "Se puede observar desde las otras métricas que los modelos tuvieron buen ajuste. \n",
    "\n",
    "También se puede concluir que no existe underfitting, los resultados del f-score y la accuracy indican esto. Esto se debe a que PCA hizo que se tuviese una buena representación de los datos con menos atributos.\n",
    "\n",
    "Es de notar también que **no existe un modelo perfecto**. Elegir un modelo en base al rendimiento que tuvo con respecto al conjunto de test, no siempre es la respuesta. Puede que los predictores hayan sido mejor, y hayan tenido mejor score, pero esto no indica que un modelo es mejor que otro. Usualmente depende del problema y de lo que se quiera lograr con cual modelo uno debe quedarse.\n",
    "\n",
    "Se concluye de todos modos, que el PCA ayudó a reducir la maldición de la dimensionalidad y gracias a ello, se obtienen buenos resultados con los predictores."
   ]
  }
 ],
 "metadata": {
  "kernelspec": {
   "display_name": "Python 3",
   "language": "python",
   "name": "python3"
  },
  "language_info": {
   "codemirror_mode": {
    "name": "ipython",
    "version": 3
   },
   "file_extension": ".py",
   "mimetype": "text/x-python",
   "name": "python",
   "nbconvert_exporter": "python",
   "pygments_lexer": "ipython3",
   "version": "3.7.3"
  }
 },
 "nbformat": 4,
 "nbformat_minor": 4
}
